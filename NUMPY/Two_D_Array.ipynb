{
 "cells": [
  {
   "cell_type": "markdown",
   "metadata": {},
   "source": [
    "Creting a 2D array using array method of numpy package \n"
   ]
  },
  {
   "cell_type": "code",
   "execution_count": 2,
   "metadata": {},
   "outputs": [
    {
     "name": "stdout",
     "output_type": "stream",
     "text": [
      "[[19 29 30]\n",
      " [48 98 78]\n",
      " [78 67 57]]\n"
     ]
    }
   ],
   "source": [
    "import numpy as np\n",
    "a = [[19,29,30],[48,98,78],[78,67,57]]\n",
    "myarr = np.array(a)\n",
    "print(myarr)"
   ]
  },
  {
   "cell_type": "markdown",
   "metadata": {},
   "source": [
    "We can also create a 2d array by directly inserting values in array() method"
   ]
  },
  {
   "cell_type": "code",
   "execution_count": 3,
   "metadata": {},
   "outputs": [
    {
     "name": "stdout",
     "output_type": "stream",
     "text": [
      "[[10 20 30]\n",
      " [68 45 89]\n",
      " [87 45 67]]\n"
     ]
    }
   ],
   "source": [
    "import numpy as ab\n",
    "arr = ab.array([[10,20,30],[68,45,89],[87,45,67]])\n",
    "print(arr)"
   ]
  },
  {
   "cell_type": "markdown",
   "metadata": {},
   "source": [
    "ndim function=> return the dimension of the array."
   ]
  },
  {
   "cell_type": "code",
   "execution_count": 4,
   "metadata": {},
   "outputs": [
    {
     "name": "stdout",
     "output_type": "stream",
     "text": [
      "[[19 29 30]\n",
      " [48 98 78]\n",
      " [78 67 57]]\n",
      "The dimension of the array is:  2\n"
     ]
    }
   ],
   "source": [
    "import numpy as np\n",
    "a = [[19,29,30],[48,98,78],[78,67,57]]\n",
    "myarr = np.array(a)\n",
    "print(myarr)\n",
    "print(\"The dimension of the array is: \",arr.ndim)"
   ]
  },
  {
   "cell_type": "markdown",
   "metadata": {},
   "source": [
    "shape function=> it returns the shape of the array, i.e now of rows and columns in form of (rows,columns)"
   ]
  },
  {
   "cell_type": "code",
   "execution_count": 5,
   "metadata": {},
   "outputs": [
    {
     "name": "stdout",
     "output_type": "stream",
     "text": [
      "[[19 29 30]\n",
      " [48 98 78]\n",
      " [78 67 57]]\n",
      "The shape of the array is:  (3, 3)\n"
     ]
    }
   ],
   "source": [
    "import numpy as np\n",
    "a = [[19,29,30],[48,98,78],[78,67,57]]\n",
    "myarr = np.array(a)\n",
    "print(myarr)\n",
    "print(\"The shape of the array is: \",arr.shape)"
   ]
  }
 ],
 "metadata": {
  "kernelspec": {
   "display_name": "Python 3",
   "language": "python",
   "name": "python3"
  },
  "language_info": {
   "codemirror_mode": {
    "name": "ipython",
    "version": 3
   },
   "file_extension": ".py",
   "mimetype": "text/x-python",
   "name": "python",
   "nbconvert_exporter": "python",
   "pygments_lexer": "ipython3",
   "version": "3.13.1"
  }
 },
 "nbformat": 4,
 "nbformat_minor": 2
}
