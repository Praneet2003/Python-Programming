{
 "cells": [
  {
   "cell_type": "markdown",
   "metadata": {},
   "source": [
    "Reshaping of array: we use reshape() function to it, reshaping means to convert an array from one dimension to other.\n",
    "eg: 1d to 2d array or vice versa.\n",
    "\n",
    "synatax:\n",
    "array_name.reshape(new_shape) \n",
    "\n",
    "here the argument passed is in the form of tuple, i.e no of elemnts same.\n",
    "\n",
    "NOTE:\n",
    "while rehaping the number of elemnts in original array must be same after reshaping.\n",
    "eg: if an array have 12 elements then the total combination to convert it in 2d array is\":\n",
    "(4,3),(6,2),(2,6),(3,4) "
   ]
  },
  {
   "cell_type": "markdown",
   "metadata": {},
   "source": [
    "Conversion of 1D array into 2D array"
   ]
  },
  {
   "cell_type": "code",
   "execution_count": 3,
   "metadata": {},
   "outputs": [
    {
     "name": "stdout",
     "output_type": "stream",
     "text": [
      "[[ 1  2  3]\n",
      " [ 4  5  6]\n",
      " [ 7  8  9]\n",
      " [10 11 12]]\n",
      "Dimension of the new array is:  2\n"
     ]
    }
   ],
   "source": [
    "import numpy as np\n",
    "arr = [1,2,3,4,5,6,7,8,9,10,11,12]\n",
    "arr = np.array(arr)\n",
    "arr1=arr.reshape(4,3)\n",
    "print(arr1)\n",
    "print(\"Dimension of the new array is: \",arr1.ndim)"
   ]
  },
  {
   "cell_type": "markdown",
   "metadata": {},
   "source": [
    "Conversion of 2D array into 1D array\n"
   ]
  },
  {
   "cell_type": "code",
   "execution_count": 2,
   "metadata": {},
   "outputs": [
    {
     "name": "stdout",
     "output_type": "stream",
     "text": [
      "[ 10  20  30  40  80  90 100 120]\n"
     ]
    }
   ],
   "source": [
    "import numpy as np\n",
    "arr = np.array([[10,20,30,40],[80,90,100,120]])\n",
    "arr1 = arr.reshape(8)\n",
    "print(arr1)"
   ]
  },
  {
   "cell_type": "markdown",
   "metadata": {},
   "source": [
    "COversion of 2D array into 3D array"
   ]
  },
  {
   "cell_type": "code",
   "execution_count": 1,
   "metadata": {},
   "outputs": [
    {
     "name": "stdout",
     "output_type": "stream",
     "text": [
      "[[[10 30]\n",
      "  [60 78]]\n",
      "\n",
      " [[89 45]\n",
      "  [68 69]]]\n",
      "the dimension of new array is:  3\n"
     ]
    }
   ],
   "source": [
    "import numpy as np\n",
    "arr = np.array([[10,30,60,78],[89,45,68,69]])\n",
    "arr = arr.reshape(2,2,2)\n",
    "print(arr)\n",
    "print(\"the dimension of new array is: \",arr.ndim)"
   ]
  },
  {
   "cell_type": "markdown",
   "metadata": {},
   "source": [
    "using - 1 to infer or predict the dimension, her we only pass one arguments for the 2d array, it automatically predicts the dimension for it."
   ]
  },
  {
   "cell_type": "code",
   "execution_count": 23,
   "metadata": {},
   "outputs": [
    {
     "name": "stdout",
     "output_type": "stream",
     "text": [
      "first array: \n",
      " [[1 2]\n",
      " [3 4]\n",
      " [5 6]]\n",
      "Second array: \n",
      " [[1 2]\n",
      " [3 4]\n",
      " [5 6]]\n",
      "THird array: \n",
      " [[[1 2 3]]\n",
      "\n",
      " [[4 5 6]]]\n",
      "Dimension1:  (3, 2)\n",
      "Dimension2:  (3, 2)\n",
      "Dimension3:  (2, 1, 3)\n"
     ]
    }
   ],
   "source": [
    "import numpy as np\n",
    "arr = np.array([1,2,3,4,5,6])\n",
    "arr1 = arr.reshape(-1,2) # here compiler will automatically calculate the no of rows.\n",
    "arr2 = arr.reshape(3,-1)\n",
    "arr3 = arr.reshape(2,1,-1)\n",
    "print(\"first array: \\n\",arr1)\n",
    "print(\"Second array: \\n\",arr2)\n",
    "print(\"THird array: \\n\",arr3)\n",
    "print(\"Dimension1: \",arr1.shape)\n",
    "print(\"Dimension2: \",arr2.shape)\n",
    "print(\"Dimension3: \",arr3.shape)"
   ]
  }
 ],
 "metadata": {
  "kernelspec": {
   "display_name": "Python 3",
   "language": "python",
   "name": "python3"
  },
  "language_info": {
   "codemirror_mode": {
    "name": "ipython",
    "version": 3
   },
   "file_extension": ".py",
   "mimetype": "text/x-python",
   "name": "python",
   "nbconvert_exporter": "python",
   "pygments_lexer": "ipython3",
   "version": "3.13.1"
  }
 },
 "nbformat": 4,
 "nbformat_minor": 2
}
