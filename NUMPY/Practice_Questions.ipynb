{
 "cells": [
  {
   "cell_type": "code",
   "execution_count": 6,
   "metadata": {},
   "outputs": [
    {
     "name": "stdout",
     "output_type": "stream",
     "text": [
      "[11 14 15 12 12 13 15 15 18]\n",
      "Array after reshaping: \n",
      " [[11 14 15]\n",
      " [12 12 13]\n",
      " [15 15 18]]\n"
     ]
    }
   ],
   "source": [
    "import numpy as np\n",
    "np.random.seed()\n",
    "arr = np.random.randint(10,21,9)\n",
    "print(arr)\n",
    "arr1 = arr.reshape(3,3)\n",
    "print(\"Array after reshaping: \\n\",arr1)"
   ]
  },
  {
   "cell_type": "markdown",
   "metadata": {},
   "source": [
    "convert all even values of an array to 0"
   ]
  },
  {
   "cell_type": "code",
   "execution_count": 10,
   "metadata": {},
   "outputs": [
    {
     "name": "stdout",
     "output_type": "stream",
     "text": [
      "After conevrting all even number to zero: \n",
      "[ 1  0  3  0  5  0  7  0  9  0 11  0 13  0 15  0 17  0 19  0]\n"
     ]
    }
   ],
   "source": [
    "import numpy as np\n",
    "arr = np.array([1,2,3,4,5,6,7,8,9,10,11,12,13,14,15,16,17,18,19,20])\n",
    "arr[1::2]=0\n",
    "print(\"After conevrting all even number to zero: \")\n",
    "print(arr)"
   ]
  },
  {
   "cell_type": "markdown",
   "metadata": {},
   "source": [
    "create an array of size 10 ,each value of array should be 5."
   ]
  },
  {
   "cell_type": "code",
   "execution_count": 18,
   "metadata": {},
   "outputs": [
    {
     "name": "stdout",
     "output_type": "stream",
     "text": [
      "[5 5 5 5 5 5 5 5 5 5]\n",
      "10\n"
     ]
    }
   ],
   "source": [
    "import numpy as np\n",
    "arr = []\n",
    "for i in range(10):\n",
    "    val = 5\n",
    "    arr.append(5)\n",
    "arr = np.array(arr)\n",
    "print(arr)\n",
    "print(np.size(arr))"
   ]
  },
  {
   "cell_type": "markdown",
   "metadata": {},
   "source": [
    "creat a 2d array of size 3X3 but all the elemnts should be b/w 0 to 1."
   ]
  },
  {
   "cell_type": "code",
   "execution_count": 31,
   "metadata": {},
   "outputs": [
    {
     "name": "stdout",
     "output_type": "stream",
     "text": [
      "[[0.11474597 0.94948926 0.44991213]\n",
      " [0.57838961 0.4081368  0.23702698]\n",
      " [0.90337952 0.57367949 0.00287033]]\n"
     ]
    }
   ],
   "source": [
    "import numpy as np\n",
    "arr = np.random.rand(9).reshape(3,3)\n",
    "arr = np.array(arr)\n",
    "print(arr)"
   ]
  },
  {
   "cell_type": "markdown",
   "metadata": {},
   "source": [
    "perform array slicing 2D array i.e\n",
    "\n",
    "arr = [[1,2,3,4],\n",
    "\n",
    "        [5,6,7,8],\n",
    "\n",
    "        [9,10,11,12],\n",
    "\n",
    "        [13,14,15,16]]\n",
    "\n",
    "to get the deisired output as: \n",
    "\n",
    "[[ 6  7]\n",
    "\n",
    " [10 11]\n",
    "\n",
    " [14 15]]\n"
   ]
  },
  {
   "cell_type": "code",
   "execution_count": 38,
   "metadata": {},
   "outputs": [
    {
     "name": "stdout",
     "output_type": "stream",
     "text": [
      "[[ 6  7]\n",
      " [10 11]\n",
      " [14 15]]\n"
     ]
    }
   ],
   "source": [
    "import numpy as np\n",
    "arr = np.array([[1,2,3,4],[5,6,7,8],[9,10,11,12],[13,14,15,16]])\n",
    "arr1 = arr[1:,1:3]\n",
    "print(arr1)"
   ]
  },
  {
   "cell_type": "markdown",
   "metadata": {},
   "source": [
    "Concatenate 2D array and concatenate them horizontallay and vertically."
   ]
  },
  {
   "cell_type": "code",
   "execution_count": 42,
   "metadata": {},
   "outputs": [
    {
     "name": "stdout",
     "output_type": "stream",
     "text": [
      "The original array is: \n",
      " [[ 9 16 14]\n",
      " [ 9 12 19]\n",
      " [12  9  8]] \n",
      "\n",
      " [[22 37 31]\n",
      " [41 35 46]\n",
      " [40 48 40]] \n",
      "\n",
      "Horizontal Stacking: \n",
      " [[ 9 16 14 22 37 31]\n",
      " [ 9 12 19 41 35 46]\n",
      " [12  9  8 40 48 40]]\n",
      "Vertical Stacking: \n",
      " [[ 9 16 14]\n",
      " [ 9 12 19]\n",
      " [12  9  8]\n",
      " [22 37 31]\n",
      " [41 35 46]\n",
      " [40 48 40]]\n"
     ]
    }
   ],
   "source": [
    "import numpy as np\n",
    "np.random.seed(2)\n",
    "arr = np.random.randint(1,21,9).reshape(3,3)\n",
    "arr1 = np.random.randint(20,51,9).reshape(3,3)\n",
    "print(\"The original array is: \\n\",arr,\"\\n\\n\",arr1,\"\\n\")\n",
    "hori = np.hstack((arr,arr1))\n",
    "ver = np.vstack((arr,arr1))\n",
    "print(\"Horizontal Stacking: \\n\",hori)\n",
    "print(\"Vertical Stacking: \\n\",ver)"
   ]
  }
 ],
 "metadata": {
  "kernelspec": {
   "display_name": "Python 3",
   "language": "python",
   "name": "python3"
  },
  "language_info": {
   "codemirror_mode": {
    "name": "ipython",
    "version": 3
   },
   "file_extension": ".py",
   "mimetype": "text/x-python",
   "name": "python",
   "nbconvert_exporter": "python",
   "pygments_lexer": "ipython3",
   "version": "3.13.1"
  }
 },
 "nbformat": 4,
 "nbformat_minor": 2
}
