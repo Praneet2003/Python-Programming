{
 "cells": [
  {
   "cell_type": "markdown",
   "metadata": {},
   "source": [
    "Different mathematical operation on 1D array.\n",
    "NOTE: it does not effect the original array. "
   ]
  },
  {
   "cell_type": "code",
   "execution_count": 14,
   "metadata": {},
   "outputs": [
    {
     "name": "stdout",
     "output_type": "stream",
     "text": [
      "[2 4 6 8]\n",
      "[3 4 5 6]\n",
      "[-1  0  1  2]\n",
      "[0.5 1.  1.5 2. ]\n",
      "[0 1 1 2]\n",
      "[inf inf inf inf]\n"
     ]
    },
    {
     "name": "stderr",
     "output_type": "stream",
     "text": [
      "C:\\Users\\Praneet Raj\\AppData\\Local\\Temp\\ipykernel_13308\\1990099563.py:13: RuntimeWarning: divide by zero encountered in divide\n",
      "  arr6 = arr/0\n"
     ]
    }
   ],
   "source": [
    "import numpy as np\n",
    "arr = np.arange(1,5)\n",
    "arr1 = arr*2\n",
    "print(arr1)\n",
    "arr2 = arr+2\n",
    "print(arr2)\n",
    "arr3 = arr-2\n",
    "print(arr3)\n",
    "arr4 = arr/2\n",
    "print(arr4)\n",
    "arr5 = arr//2\n",
    "print(arr5)\n",
    "arr6 = arr/0\n",
    "print(arr6)"
   ]
  },
  {
   "cell_type": "markdown",
   "metadata": {},
   "source": [
    "NOTE: in numpy if you divide any elemnt of array by 0 it doesn't give you error, instead of it, gives inf."
   ]
  },
  {
   "cell_type": "markdown",
   "metadata": {},
   "source": [
    "Adding two 1D array\n",
    ", but must have same no of elemnts in both array."
   ]
  },
  {
   "cell_type": "code",
   "execution_count": 17,
   "metadata": {},
   "outputs": [
    {
     "name": "stdout",
     "output_type": "stream",
     "text": [
      "[ 6  8 10 12]\n"
     ]
    }
   ],
   "source": [
    "import numpy as np\n",
    "arr1 = np.arange(1,5)\n",
    "arr2 = np.arange(5,9)\n",
    "print(arr1+arr2)"
   ]
  },
  {
   "cell_type": "markdown",
   "metadata": {},
   "source": [
    "Mathematical operation on 2d array"
   ]
  },
  {
   "cell_type": "code",
   "execution_count": null,
   "metadata": {},
   "outputs": [
    {
     "name": "stdout",
     "output_type": "stream",
     "text": [
      "[[2 4]\n",
      " [6 8]]\n",
      "[[0.5 1. ]\n",
      " [1.5 2. ]]\n",
      "[[0 1]\n",
      " [1 2]]\n",
      "[[ 1  4]\n",
      " [ 9 16]]\n",
      "[[inf inf]\n",
      " [inf inf]]\n"
     ]
    },
    {
     "name": "stderr",
     "output_type": "stream",
     "text": [
      "C:\\Users\\Praneet Raj\\AppData\\Local\\Temp\\ipykernel_13308\\34490594.py:7: RuntimeWarning: divide by zero encountered in divide\n",
      "  print(arr1/0)\n"
     ]
    }
   ],
   "source": [
    "import numpy as np\n",
    "arr1 = np.array([1,2,3,4]).reshape(2,2)\n",
    "print(arr1*2)\n",
    "print(arr1/2)\n",
    "print(arr1//2)\n",
    "print(arr1**2)\n",
    "print(arr1/0)"
   ]
  },
  {
   "cell_type": "markdown",
   "metadata": {},
   "source": [
    "Addition of two 2D array"
   ]
  },
  {
   "cell_type": "code",
   "execution_count": 29,
   "metadata": {},
   "outputs": [
    {
     "name": "stdout",
     "output_type": "stream",
     "text": [
      "[[ 6  8]\n",
      " [10 12]]\n",
      "Multiplication of both matrices.\n",
      "[[ 5 12]\n",
      " [21 32]]\n",
      "The matrix multiplication of two matrices: \n",
      "[[19 22]\n",
      " [43 50]]\n",
      "division of two matrices: \n",
      "[[0.2        0.33333333]\n",
      " [0.42857143 0.5       ]]\n"
     ]
    }
   ],
   "source": [
    "import numpy as np\n",
    "arr1 = np.array([1,2,3,4]).reshape(2,2)\n",
    "arr2 = np.array([5,6,7,8]).reshape(2,2)\n",
    "print(arr1+arr2)\n",
    "print(\"Multiplication of both matrices.\")\n",
    "print(arr1*arr2)\n",
    "print(\"The matrix multiplication of two matrices: \")\n",
    "print(arr1.dot(arr2))\n",
    "print(\"division of two matrices: \")\n",
    "print(arr1/arr2)\n"
   ]
  }
 ],
 "metadata": {
  "kernelspec": {
   "display_name": "Python 3",
   "language": "python",
   "name": "python3"
  },
  "language_info": {
   "codemirror_mode": {
    "name": "ipython",
    "version": 3
   },
   "file_extension": ".py",
   "mimetype": "text/x-python",
   "name": "python",
   "nbconvert_exporter": "python",
   "pygments_lexer": "ipython3",
   "version": "3.13.1"
  }
 },
 "nbformat": 4,
 "nbformat_minor": 2
}
