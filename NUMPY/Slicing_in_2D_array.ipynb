{
 "cells": [
  {
   "cell_type": "markdown",
   "metadata": {},
   "source": [
    "creating 2d array using user input"
   ]
  },
  {
   "cell_type": "code",
   "execution_count": 3,
   "metadata": {},
   "outputs": [
    {
     "name": "stdout",
     "output_type": "stream",
     "text": [
      "The element of array are: \n",
      "10 20 30 \n",
      "40 50 60 \n",
      "70 80 90 \n"
     ]
    }
   ],
   "source": [
    "import numpy as np\n",
    "matrix=[]\n",
    "row = int(input(\"Enter the no of rows: \"))\n",
    "col = int(input(\"Enter no of columns: \"))\n",
    "for i in range(row):\n",
    "    a = []\n",
    "    for j in range(col):\n",
    "        val = int(input())\n",
    "        a.append(val)\n",
    "    matrix.append(a)\n",
    "arr = np.array(matrix)\n",
    "print(\"The element of array are: \")\n",
    "for i in range(row):\n",
    "    for j in range(col):\n",
    "        print(matrix[i][j],end = ' ')\n",
    "    print()"
   ]
  },
  {
   "cell_type": "markdown",
   "metadata": {},
   "source": [
    "Slicing in 2D array"
   ]
  },
  {
   "cell_type": "code",
   "execution_count": 9,
   "metadata": {},
   "outputs": [
    {
     "name": "stdout",
     "output_type": "stream",
     "text": [
      "[[10 20 30]\n",
      " [40 50 60]]\n",
      "second slicing  [[40]]\n",
      "third slicing \n",
      "[[10 20]\n",
      " [40 50]\n",
      " [70 80]]\n"
     ]
    }
   ],
   "source": [
    "import numpy as np\n",
    "arr = np.array([[10,20,30],[40,50,60],[70,80,90]])\n",
    "print(arr[:2])\n",
    "print(\"second slicing \",end = ' ')\n",
    "print(arr[1:2,0:1])\n",
    "print(\"third slicing \")\n",
    "print(arr[:3,:2])\n"
   ]
  },
  {
   "cell_type": "markdown",
   "metadata": {},
   "source": [
    "Seed operation on 2D array"
   ]
  },
  {
   "cell_type": "code",
   "execution_count": 26,
   "metadata": {},
   "outputs": [
    {
     "name": "stdout",
     "output_type": "stream",
     "text": [
      "[[341 365 469 213  87]\n",
      " [276 170 323 119 467]\n",
      " [297 456 442   8 269]\n",
      " [267 450 369 217 285]]\n",
      "After slicing\n",
      "[[442   8 269]\n",
      " [369 217 285]]\n"
     ]
    }
   ],
   "source": [
    "import numpy as np\n",
    "arr = []\n",
    "np.random.seed(111)\n",
    "arr = np.random.randint(1,500,20).reshape(4,5)\n",
    "# NOTE: here the total no of elemenst in randint should must be same in reshaping. \n",
    "print(arr)\n",
    "print(\"After slicing\",end = '\\n')\n",
    "print(arr[2:,2:])"
   ]
  }
 ],
 "metadata": {
  "kernelspec": {
   "display_name": "Python 3",
   "language": "python",
   "name": "python3"
  },
  "language_info": {
   "codemirror_mode": {
    "name": "ipython",
    "version": 3
   },
   "file_extension": ".py",
   "mimetype": "text/x-python",
   "name": "python",
   "nbconvert_exporter": "python",
   "pygments_lexer": "ipython3",
   "version": "3.13.1"
  }
 },
 "nbformat": 4,
 "nbformat_minor": 2
}
