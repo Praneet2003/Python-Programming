{
 "cells": [
  {
   "cell_type": "markdown",
   "metadata": {},
   "source": [
    "1. zeroes=> it is used to create an array eith 1D or mutidimension, and fill all the elements as 0."
   ]
  },
  {
   "cell_type": "markdown",
   "metadata": {},
   "source": [
    "NOTE: array in numpy is by default float64 , hence we will get the values as float."
   ]
  },
  {
   "cell_type": "code",
   "execution_count": 6,
   "metadata": {},
   "outputs": [
    {
     "name": "stdout",
     "output_type": "stream",
     "text": [
      "Dimension of array 1 is:  1\n",
      "[0. 0. 0. 0. 0.]\n",
      "Dimension of array 2 is:  2\n",
      "[[0. 0. 0.]\n",
      " [0. 0. 0.]]\n"
     ]
    }
   ],
   "source": [
    "import numpy as n\n",
    "arr1 = n.zeros(5)# creates a 1D array with size 5.\n",
    "arr2 = n.zeros((2,3))# creates a 2d array with 2X3 shape.\n",
    "print(\"Dimension of array 1 is: \",arr1.ndim)\n",
    "print(arr1)\n",
    "print(\"Dimension of array 2 is: \",arr2.ndim)\n",
    "print(arr2)"
   ]
  },
  {
   "cell_type": "markdown",
   "metadata": {},
   "source": [
    "2. ones => it is similar to zeroes function but it fills all th e values with 1."
   ]
  },
  {
   "cell_type": "code",
   "execution_count": 18,
   "metadata": {},
   "outputs": [
    {
     "name": "stdout",
     "output_type": "stream",
     "text": [
      "Elements of arr: \n",
      " [1. 1. 1. 1. 1.]\n",
      "Elements of arr1: \n",
      " [[1. 1. 1. 1. 1.]\n",
      " [1. 1. 1. 1. 1.]]\n"
     ]
    }
   ],
   "source": [
    "import numpy as n\n",
    "arr = n.ones(5)# 1 d array.\n",
    "arr1 = n.ones((2,5))# creates a 2d array.\n",
    "print(\"Elements of arr: \\n\",arr)\n",
    "print(\"Elements of arr1: \\n\",arr1)"
   ]
  },
  {
   "cell_type": "markdown",
   "metadata": {},
   "source": [
    "3. eye => it cretes an array with all diagonal element as 1 and rest of the elements as 0.\n",
    "\n",
    "NOTE: if the non square matrix it their then the diagonal elements are 1(uptill where the diagonal can be drawn) and rest elemts are 0."
   ]
  },
  {
   "cell_type": "code",
   "execution_count": 16,
   "metadata": {},
   "outputs": [
    {
     "name": "stdout",
     "output_type": "stream",
     "text": [
      "Dimension of the array is:  2\n",
      "[[1. 0. 0.]\n",
      " [0. 1. 0.]\n",
      " [0. 0. 1.]]\n",
      "Dimension of the array is:  2\n",
      "[[1. 0. 0. 0.]\n",
      " [0. 1. 0. 0.]\n",
      " [0. 0. 1. 0.]]\n"
     ]
    }
   ],
   "source": [
    "import numpy as n\n",
    "arr = n.eye(3)\n",
    "print(\"Dimension of the array is: \",arr.ndim)\n",
    "print(arr)\n",
    "arr1 = n.eye(3,4)\n",
    "print(\"Dimension of the array is: \",arr1.ndim)\n",
    "print(arr1)\n"
   ]
  },
  {
   "cell_type": "markdown",
   "metadata": {},
   "source": [
    "Note: even you insert only one argument in eye function then also it makes a sqyare matrix of that size."
   ]
  },
  {
   "cell_type": "markdown",
   "metadata": {},
   "source": [
    "4. diag=> it takes an input as an array having value of each diagonal elements and rest of the elements as 0, it creates the square matrix accoring to number of diagonal elements. "
   ]
  },
  {
   "cell_type": "code",
   "execution_count": 21,
   "metadata": {},
   "outputs": [
    {
     "name": "stdout",
     "output_type": "stream",
     "text": [
      "[[20  0  0  0]\n",
      " [ 0 40  0  0]\n",
      " [ 0  0 60  0]\n",
      " [ 0  0  0 80]]\n"
     ]
    },
    {
     "data": {
      "text/plain": [
       "array([20, 40, 60, 80])"
      ]
     },
     "execution_count": 21,
     "metadata": {},
     "output_type": "execute_result"
    }
   ],
   "source": [
    "import numpy as n\n",
    "arr = n.diag([20,40,60,80])\n",
    "print(arr)\n",
    "# to extract or get all the diagonal elements of any array we use diag(array_name)\n",
    "n.diag(arr)"
   ]
  },
  {
   "cell_type": "markdown",
   "metadata": {},
   "source": [
    "5. randint=> this function is used to generate a random number(integer) b/w a given range in the form of a number or an array.\n",
    "\n",
    "\n",
    "Syntax: \n",
    "\n",
    "\n",
    "        random.randint(min,max,size or no of values)"
   ]
  },
  {
   "cell_type": "code",
   "execution_count": 40,
   "metadata": {},
   "outputs": [
    {
     "name": "stdout",
     "output_type": "stream",
     "text": [
      "2\n",
      "[3 5 1 9 6]\n",
      "[[8 8 7]\n",
      " [3 3 1]]\n"
     ]
    }
   ],
   "source": [
    "import numpy as np\n",
    "\n",
    "# Single random integer\n",
    "print(np.random.randint(1, 10))  # Output: A random integer between 1 (inclusive) and 10 (exclusive)\n",
    "\n",
    "# 1D array of random integers\n",
    "print(np.random.randint(1, 10, size=5))  # Output: [2, 6, 9, 3, 5]\n",
    "\n",
    "# 2D array of random integers\n",
    "print(np.random.randint(1, 10,(2, 3)))"
   ]
  },
  {
   "cell_type": "markdown",
   "metadata": {},
   "source": [
    "6. rand => \n",
    "this function generates random number b/w ranges [0,1)\n",
    "** range: [0,1) is always fixed.\n",
    "Synatax:\n",
    "\n",
    "random.rand(no_of_elements)"
   ]
  },
  {
   "cell_type": "code",
   "execution_count": null,
   "metadata": {},
   "outputs": [
    {
     "name": "stdout",
     "output_type": "stream",
     "text": [
      "[0.92388576 0.56633011 0.34182098 0.58258955 0.85172965]\n",
      "[[0.20769185 0.36992796 0.7355126 ]\n",
      " [0.31121183 0.15295366 0.90076687]]\n"
     ]
    }
   ],
   "source": [
    "import numpy as n\n",
    "print(n.random.rand(5))\n",
    "# gives an 1D array of any random 5 float values\n",
    "print(n.random.rand(2,3)) \n",
    "# given a 2d array of any random float values b/w [0.1)\n"
   ]
  },
  {
   "cell_type": "markdown",
   "metadata": {},
   "source": [
    "7. randn => this function getnerates random float values near 0.\n",
    "the values may be positive or negative.'\n",
    "syntax:\n",
    "\n",
    "random.randn(no_of_values)\n"
   ]
  },
  {
   "cell_type": "code",
   "execution_count": 44,
   "metadata": {},
   "outputs": [
    {
     "name": "stdout",
     "output_type": "stream",
     "text": [
      "-1.6647898978002256\n",
      "[-0.62191423 -0.10444538 -0.64356623  0.12817356 -0.42348743]\n",
      "[[ 0.63744328  0.68144305 -0.54621755]\n",
      " [-0.67795596  0.16748532  0.00740455]]\n"
     ]
    }
   ],
   "source": [
    "import numpy as n\n",
    "print(n.random.randn())\n",
    "print(n.random.randn(5))\n",
    "# gives an 1D array of any random 5 float values near 0.\n",
    "print(n.random.randn(2,3)) \n",
    "# given a 2d array of any random float values near 0.\n"
   ]
  },
  {
   "cell_type": "markdown",
   "metadata": {},
   "source": [
    "8. seed => this method is similar to randint() but the difference is that it keeps the value fixed after the random number generation. no matter how many time you run the program."
   ]
  },
  {
   "cell_type": "code",
   "execution_count": 74,
   "metadata": {},
   "outputs": [
    {
     "name": "stdout",
     "output_type": "stream",
     "text": [
      "[27 17 69 43 56 77 80 90 15 92]\n"
     ]
    }
   ],
   "source": [
    "import numpy as np\n",
    "np.random.seed(200) # no matter what integer value you are passing in seed function,\n",
    "# but if any value is not passed in seed function the the value will be changed if you runt he program again.\n",
    "#seed is also a part of random module.\n",
    "arr = np.random.randint(1,100,10)\n",
    "print(arr)"
   ]
  },
  {
   "cell_type": "markdown",
   "metadata": {},
   "source": [
    "Note: the value is seed is fixed, until the arguments passed int the seed function doesn't change."
   ]
  }
 ],
 "metadata": {
  "kernelspec": {
   "display_name": "Python 3",
   "language": "python",
   "name": "python3"
  },
  "language_info": {
   "codemirror_mode": {
    "name": "ipython",
    "version": 3
   },
   "file_extension": ".py",
   "mimetype": "text/x-python",
   "name": "python",
   "nbconvert_exporter": "python",
   "pygments_lexer": "ipython3",
   "version": "3.13.1"
  }
 },
 "nbformat": 4,
 "nbformat_minor": 2
}
