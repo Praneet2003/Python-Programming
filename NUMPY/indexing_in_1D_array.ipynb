{
 "cells": [
  {
   "cell_type": "markdown",
   "metadata": {},
   "source": [
    "Indexing in pyhton starts from 0 from left to right.\n",
    "In pyhton array also supports -ive indexing starts from -1 right to left "
   ]
  },
  {
   "cell_type": "code",
   "execution_count": 12,
   "metadata": {},
   "outputs": [
    {
     "name": "stdout",
     "output_type": "stream",
     "text": [
      "10\n",
      "20\n",
      "40\n",
      "56\n",
      "68\n",
      "40\n",
      "Sum of all elements of the array is:  194\n",
      "Product of all elemnts is:  27200\n"
     ]
    }
   ],
   "source": [
    "import numpy as np\n",
    "arr = np.array([10,20,40,56,68])\n",
    "for i in range(arr.size):\n",
    "    print(arr[i])\n",
    "print(arr[-3])\n",
    "sum =0\n",
    "for i in range(0,arr.size,1):\n",
    "    sum+=arr[i]\n",
    "print(\"Sum of all elements of the array is: \",sum)  \n",
    "product = 1\n",
    "for i in range(0,arr.size,2):# product of all elements at even indexes.\n",
    "    product*=arr[i]\n",
    "print(\"Product of all elemnts is: \",product)  "
   ]
  },
  {
   "cell_type": "markdown",
   "metadata": {},
   "source": [
    "Array slicing, it is similar to list slicing.\n",
    "Syntax:\n",
    "\n",
    "array_name[start,end,step]\n"
   ]
  },
  {
   "cell_type": "code",
   "execution_count": 11,
   "metadata": {},
   "outputs": [
    {
     "name": "stdout",
     "output_type": "stream",
     "text": [
      "[30 40 50]\n",
      "[70 60 50 40 30 20 10]\n",
      "[50 60 70]\n"
     ]
    }
   ],
   "source": [
    "import numpy as np\n",
    "n = int(input(\"Enter the siize of the array: \"))\n",
    "myarr=[]\n",
    "for i in range(n):\n",
    "    val = int(input())\n",
    "    myarr.append(val)\n",
    "arr = np.array(myarr)\n",
    "arr1 = arr[2:5]\n",
    "arr2 = arr[::-1]\n",
    "arr3 = arr[4:]\n",
    "print(arr1)\n",
    "print(arr2)\n",
    "print(arr3)"
   ]
  }
 ],
 "metadata": {
  "kernelspec": {
   "display_name": "Python 3",
   "language": "python",
   "name": "python3"
  },
  "language_info": {
   "codemirror_mode": {
    "name": "ipython",
    "version": 3
   },
   "file_extension": ".py",
   "mimetype": "text/x-python",
   "name": "python",
   "nbconvert_exporter": "python",
   "pygments_lexer": "ipython3",
   "version": "3.13.1"
  }
 },
 "nbformat": 4,
 "nbformat_minor": 2
}
