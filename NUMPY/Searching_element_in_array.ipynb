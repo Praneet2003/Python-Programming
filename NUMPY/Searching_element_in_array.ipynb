{
 "cells": [
  {
   "cell_type": "markdown",
   "metadata": {},
   "source": [
    "where(arr==element) => this method returns an array having index of the each occurence of that particular element in whole array."
   ]
  },
  {
   "cell_type": "code",
   "execution_count": 11,
   "metadata": {},
   "outputs": [
    {
     "name": "stdout",
     "output_type": "stream",
     "text": [
      "[ 1  2 35 40 50 67 70 40 40]\n",
      "Number of unique elements in the array is:  7\n",
      "(array([3, 7, 8]),)\n",
      "(array([1, 3, 4, 6, 7, 8]),)\n"
     ]
    }
   ],
   "source": [
    "import numpy as np\n",
    "arr = np.array([1,2,35,40,50,67,70,40,40])\n",
    "# arr.sort()\n",
    "print(arr)\n",
    "a = np.unique(arr).size\n",
    "print(\"Number of unique elements in the array is: \",a)\n",
    "x = np.where(arr==40)\n",
    "print(x)\n",
    "even_numbers = np.where(arr%2==0)\n",
    "print(even_numbers)"
   ]
  },
  {
   "cell_type": "markdown",
   "metadata": {},
   "source": [
    "SearchSorted(arr,element)=> this method performs binary search, and returns the index where the specified value should be inserted to maintain the order."
   ]
  },
  {
   "cell_type": "code",
   "execution_count": 17,
   "metadata": {},
   "outputs": [
    {
     "name": "stdout",
     "output_type": "stream",
     "text": [
      "2\n",
      "2\n"
     ]
    }
   ],
   "source": [
    "import numpy as np\n",
    "arr = np.array([2,5,8,9,13])# sorted array is provided\n",
    "x = np.searchsorted(arr,7)# by default the searching starts from left to right.\n",
    "# arr is the array name, 7 is the element to be inserted.\n",
    "print(x)\n",
    "# performing searchsorted from right to left\n",
    "x1 = np.searchsorted(arr,7,side='right')\n",
    "print(x1)# output will remain same always."
   ]
  }
 ],
 "metadata": {
  "kernelspec": {
   "display_name": "Python 3",
   "language": "python",
   "name": "python3"
  },
  "language_info": {
   "codemirror_mode": {
    "name": "ipython",
    "version": 3
   },
   "file_extension": ".py",
   "mimetype": "text/x-python",
   "name": "python",
   "nbconvert_exporter": "python",
   "pygments_lexer": "ipython3",
   "version": "3.13.1"
  }
 },
 "nbformat": 4,
 "nbformat_minor": 2
}
