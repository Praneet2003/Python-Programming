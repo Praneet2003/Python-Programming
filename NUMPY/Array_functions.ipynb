{
 "cells": [
  {
   "cell_type": "markdown",
   "metadata": {},
   "source": [
    "1.min() => returns the minimum element from the array.\n",
    "\n",
    "2.max() => returns the maximum element from the array.\n",
    "\n",
    "3.argmin() => return the index of min value in the array.\n",
    "\n",
    "4.argmax() => returns the index of the max value in the array.\n",
    "\n",
    "5.sqrt() => returns the square root of each elemnt present in the array.\n",
    "\n",
    "6.sin() => returns the sin value of each elemnts of the array.\n",
    "\n",
    "7.cos() => returns the cos value of each element of the array.\n",
    "\n",
    "8. sum() = > returns the sum of all elemnts in the array"
   ]
  },
  {
   "cell_type": "code",
   "execution_count": 1,
   "metadata": {},
   "outputs": [
    {
     "name": "stdout",
     "output_type": "stream",
     "text": [
      "The maximum elemnt in the array is:  90\n",
      "The minimum element in the array is:  5\n",
      "index of max elemnt is:  8\n",
      "index of the min elemnt is:  5\n",
      "Sum of all the element of array is:  412\n",
      "Square root of each elemnts in the array is: \n",
      " [3.16227766 4.47213595 5.47722558 6.32455532 8.18535277 2.23606798\n",
      " 8.36660027 8.94427191 9.48683298]\n",
      "the sine value of element in array is: \n",
      " [-0.54402111  0.91294525 -0.98803162  0.74511316 -0.85551998 -0.95892427\n",
      "  0.77389068 -0.99388865  0.89399666]\n",
      "The cos value of element in array is: \n",
      " [-0.83907153  0.40808206  0.15425145 -0.66693806 -0.5177698   0.28366219\n",
      "  0.6333192  -0.11038724 -0.44807362]\n"
     ]
    }
   ],
   "source": [
    "import numpy as np\n",
    "arr = np.array([10,20,30,40,67,5,70,80,90])\n",
    "print(\"The maximum elemnt in the array is: \",np.max(arr))\n",
    "print(\"The minimum element in the array is: \",np.min(arr))\n",
    "print(\"index of max elemnt is: \",np.argmax(arr))\n",
    "print(\"index of the min elemnt is: \",np.argmin(arr))\n",
    "print(\"Sum of all the element of array is: \",np.sum(arr))\n",
    "print(\"Square root of each elemnts in the array is: \\n\",np.sqrt(arr))\n",
    "print(\"the sine value of element in array is: \\n\",np.sin(arr))\n",
    "print(\"The cos value of element in array is: \\n\",np.cos(arr))"
   ]
  },
  {
   "cell_type": "markdown",
   "metadata": {},
   "source": [
    "VVI\n",
    "\n",
    "9 .linespace(start , end, total_no_of_values) => returns an array having specific number of points, evenly distributed b/w two values.\n",
    "\n",
    "i.e return value of a given range and with a same gap b/w consecutive elements."
   ]
  },
  {
   "cell_type": "code",
   "execution_count": 11,
   "metadata": {},
   "outputs": [
    {
     "name": "stdout",
     "output_type": "stream",
     "text": [
      "[1.   1.25 1.5  1.75 2.  ]\n"
     ]
    }
   ],
   "source": [
    "import numpy as np\n",
    "arr = np.linspace(1,2,5)\n",
    "# here it will return an array of 5 elements b/w 1 to 2 including both\n",
    "print(arr)"
   ]
  },
  {
   "cell_type": "markdown",
   "metadata": {},
   "source": [
    "Applying array function on 2D array.\n",
    "1. min(array_name, axis = 1) => it return the row wise minimum value.\n",
    "in the form of array.\n",
    "\n",
    "2. min(array_name, axis = 0) => it return the column wise minimum value.\n",
    "in the form of array.\n",
    "\n",
    "3. max(array_name, axis = 0) => it return the column wise maximum value.\n",
    "in the form of array.\n",
    "\n",
    "4. max(array_name, axis = 1) => it return the row wise maximum value.\n",
    "in the form of array.\n",
    "\n",
    "5. sum(array_name, axis = 1) => it returns the row wise sum of elements.\n",
    "in the form of array.\n",
    "\n",
    "6. sum(array_name, axis = 0) => it returns the column wise sum of elements.\n",
    "in the form of array.\n",
    "\n",
    "7. cumsum(array_name) => it returns an array of sum of elemnts present before them (for ex:- arr = [1,2,3] then the result would be : [1,3,6])."
   ]
  },
  {
   "cell_type": "code",
   "execution_count": 45,
   "metadata": {},
   "outputs": [
    {
     "name": "stdout",
     "output_type": "stream",
     "text": [
      "[[ 6 12 13]\n",
      " [ 9 10 12]\n",
      " [ 6 16  1]]\n",
      "The maximum element in the array is:  16  and present on index:  7\n",
      "The minimum element in the array is:  1  and present on index:  8\n",
      "The maximum value of elements row wise:  [13 12 16]\n",
      "The maximum value of elements column wise:  [ 9 16 13]\n",
      "The minimum value of elements row wise:  [6 9 1]\n",
      "The minimum value of elements row wise:  [ 6 10  1]\n",
      "\n",
      "The sum of all element of the array is:  85\n",
      "Sum of element row wise [31 31 23]\n",
      "The sum of element Column wise:  [21 38 26]\n",
      "The cumulative sum of elements of arrays is:  [ 6 18 31 40 50 62 68 84 85]\n",
      "The cumulative product of element of array is:  [       6       72      936     8424    84240  1010880  6065280 97044480\n",
      " 97044480]\n"
     ]
    }
   ],
   "source": [
    "import numpy as np\n",
    "np.random.seed(1)\n",
    "arr = np.random.randint(1,21,9).reshape(3,3)\n",
    "arr = np.array(arr)\n",
    "print(arr)\n",
    "print(\"The maximum element in the array is: \",np.max(arr),\" and present on index: \",np.argmax(arr))\n",
    "print(\"The minimum element in the array is: \",np.min(arr),\" and present on index: \",np.argmin(arr))\n",
    "print(\"The maximum value of elements row wise: \",np.max(arr,axis = 1))\n",
    "print(\"The maximum value of elements column wise: \",np.max(arr,axis = 0))\n",
    "print(\"The minimum value of elements row wise: \",np.min(arr,axis = 1))\n",
    "print(\"The minimum value of elements row wise: \",np.min(arr,axis = 0))\n",
    "print(\"\\nThe sum of all element of the array is: \",np.sum(arr))\n",
    "a = np.sum(arr,axis=1)\n",
    "print(\"Sum of element row wise\",a)\n",
    "b = np.sum(arr,axis = 0)\n",
    "print(\"The sum of element Column wise: \",b)\n",
    "print(\"The cumulative sum of elements of arrays is: \",np.cumsum(arr))\n",
    "print(\"The cumulative product of element of array is: \",np.cumprod(arr))\n"
   ]
  },
  {
   "cell_type": "markdown",
   "metadata": {},
   "source": [
    "8. random.shuffle(array_name) => it just changes the position of all elemnts in the array. this method is a part of random module.\n",
    "\n",
    "9. unique(array_name) => it returns a different array from the original array, by removing all Duplicate elements of the array.\n",
    "\n",
    "10. unique(array_name).size => rteurns the counts of number of unique elemnts present in the array.\n",
    "\n"
   ]
  },
  {
   "cell_type": "code",
   "execution_count": null,
   "metadata": {},
   "outputs": [
    {
     "name": "stdout",
     "output_type": "stream",
     "text": [
      "[16 11 13 17 13]\n",
      "[11 16 13 13 17]\n",
      "[11 13 16 17]\n",
      "4\n"
     ]
    }
   ],
   "source": [
    "import numpy as np\n",
    "np.random.seed(122)\n",
    "arr = np.random.randint(1,21,5)\n",
    "print(arr)\n",
    "np.random.shuffle(arr)\n",
    "print(arr)\n",
    "arr1 = np.unique(arr)\n",
    "print(arr1)\n",
    "a = np.unique(arr).size\n",
    "print(a)\n"
   ]
  },
  {
   "cell_type": "markdown",
   "metadata": {},
   "source": [
    "NOTE:\n",
    "\n",
    "numpy.unique(ar, return_index=False, return_inverse=False, return_counts=False, axis=None)\n",
    "\n",
    "Parameters:\n",
    "ar: Input array.\n",
    "\n",
    "return_index: If True, returns the indices of the first occurrence of the unique values in the input array.\n",
    "\n",
    "return_inverse: If True, returns the indices to reconstruct the original array from the unique array.\n",
    "\n",
    "return_counts: If True, returns the count of each unique element i.e frequency of each unique element.\n",
    "\n",
    "axis: If specified, finds unique elements along the specified axis."
   ]
  },
  {
   "cell_type": "code",
   "execution_count": 65,
   "metadata": {},
   "outputs": [
    {
     "name": "stdout",
     "output_type": "stream",
     "text": [
      "[ 6 12 13  9 10 12  6 16  1]\n",
      "(array([ 1,  6,  9, 10, 12, 13, 16], dtype=int32), array([8, 0, 3, 4, 1, 2, 7]), array([1, 2, 1, 1, 2, 1, 1]))\n"
     ]
    }
   ],
   "source": [
    "import numpy as np\n",
    "np.random.seed(1)\n",
    "arr = np.random.randint(1,21,9)\n",
    "print(arr)\n",
    "arr1 = np.unique(arr,return_index=True,return_counts=True)# return_index gives the indexes of uninque element, return_count returns the occurence of elemnts.\n",
    "print(arr1)"
   ]
  }
 ],
 "metadata": {
  "kernelspec": {
   "display_name": "Python 3",
   "language": "python",
   "name": "python3"
  },
  "language_info": {
   "codemirror_mode": {
    "name": "ipython",
    "version": 3
   },
   "file_extension": ".py",
   "mimetype": "text/x-python",
   "name": "python",
   "nbconvert_exporter": "python",
   "pygments_lexer": "ipython3",
   "version": "3.13.1"
  }
 },
 "nbformat": 4,
 "nbformat_minor": 2
}
