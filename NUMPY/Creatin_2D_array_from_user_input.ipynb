{
 "cells": [
  {
   "cell_type": "markdown",
   "metadata": {},
   "source": [
    "creation of 2d array using user input."
   ]
  },
  {
   "cell_type": "code",
   "execution_count": 1,
   "metadata": {},
   "outputs": [
    {
     "name": "stdout",
     "output_type": "stream",
     "text": [
      "Printing the elemnts of mattrix given by the user is: \n",
      "15 6 3 \n",
      "15 6 3 \n",
      "15 6 3 \n"
     ]
    }
   ],
   "source": [
    "import numpy as np\n",
    "matrix = []\n",
    "row = int(input(\"Enter the number of rows of array: \"))\n",
    "col = int(input(\"enter the number of columns of array: \"))\n",
    "for i in range(row):\n",
    "    a=[]# for each value of i , new list a will be created\n",
    "    for j in range(col):\n",
    "        val= int(input())\n",
    "        a.append(val)\n",
    "    matrix.append(a)\n",
    "    # after each itteration of i , the value of a will be appended to the matrix.\n",
    "print(\"Printing the elemnts of mattrix given by the user is: \")\n",
    "for i in range(row):\n",
    "    for i in range(col):\n",
    "        print(matrix[i][j],end = ' ')\n",
    "    print()"
   ]
  }
 ],
 "metadata": {
  "kernelspec": {
   "display_name": "Python 3",
   "language": "python",
   "name": "python3"
  },
  "language_info": {
   "codemirror_mode": {
    "name": "ipython",
    "version": 3
   },
   "file_extension": ".py",
   "mimetype": "text/x-python",
   "name": "python",
   "nbconvert_exporter": "python",
   "pygments_lexer": "ipython3",
   "version": "3.13.1"
  }
 },
 "nbformat": 4,
 "nbformat_minor": 2
}
