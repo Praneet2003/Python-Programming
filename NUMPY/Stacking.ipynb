{
 "cells": [
  {
   "cell_type": "markdown",
   "metadata": {},
   "source": []
  },
  {
   "cell_type": "code",
   "execution_count": 19,
   "metadata": {},
   "outputs": [
    {
     "name": "stdout",
     "output_type": "stream",
     "text": [
      "Horizontal stacking:  [12 45 67 23 67 89]\n",
      "Vertical stacking: \n",
      " [[12 45 67]\n",
      " [23 67 89]]\n",
      "Depth stack: \n",
      " [[[12 23]\n",
      "  [45 67]\n",
      "  [67 89]]]\n",
      "using universal Stack function: \n",
      "[[12 45 67]\n",
      " [23 67 89]]\n",
      "[[12 23]\n",
      " [45 67]\n",
      " [67 89]]\n"
     ]
    }
   ],
   "source": [
    "import numpy as np\n",
    "arr1 = np.array([12,45,67]) \n",
    "arr2 = np.array([23,67,89])\n",
    "result1 = np.hstack((arr1,arr2))\n",
    "result2 = np.vstack((arr1,arr2))\n",
    "print(\"Horizontal stacking: \",result1)\n",
    "print(\"Vertical stacking: \\n\",result2)\n",
    "result3 = np.dstack((arr1,arr2))\n",
    "print(\"Depth stack: \\n\",result3)\n",
    "print(\"using universal Stack function: \")\n",
    "result4 = np.stack((arr1,arr2),axis =0)\n",
    "print(result4)\n",
    "result5 = np.stack((arr1,arr2),axis=1)\n",
    "print(result5)"
   ]
  },
  {
   "cell_type": "markdown",
   "metadata": {},
   "source": [
    "Stacking in 2d array"
   ]
  },
  {
   "cell_type": "code",
   "execution_count": 26,
   "metadata": {},
   "outputs": [
    {
     "name": "stdout",
     "output_type": "stream",
     "text": [
      "Array 1 => \n",
      " [[ 6 12 13]\n",
      " [ 9 10 12]\n",
      " [ 6 16  1]]\n",
      "Array 2 => \n",
      " [[66 51 62]\n",
      " [57 63 56]\n",
      " [68 70 55]]\n",
      "Array after hstack=> \n",
      " [[ 6 12 13 66 51 62]\n",
      " [ 9 10 12 57 63 56]\n",
      " [ 6 16  1 68 70 55]]\n",
      "Array after vertical stacking=> \n",
      " [[ 6 12 13]\n",
      " [ 9 10 12]\n",
      " [ 6 16  1]\n",
      " [66 51 62]\n",
      " [57 63 56]\n",
      " [68 70 55]]\n"
     ]
    }
   ],
   "source": [
    "import numpy as np\n",
    "np.random.seed(1)\n",
    "arr1 = np.random.randint(1,21,9).reshape(3,3)\n",
    "arr2 = np.random.randint(50,71,9).reshape(3,3)\n",
    "print(\"Array 1 => \\n\",arr1)\n",
    "print(\"Array 2 => \\n\",arr2)\n",
    "print(\"Array after hstack=> \\n\",np.hstack((arr1,arr2)))\n",
    "print(\"Array after vertical stacking=> \\n\",np.vstack((arr1,arr2)))"
   ]
  }
 ],
 "metadata": {
  "kernelspec": {
   "display_name": "Python 3",
   "language": "python",
   "name": "python3"
  },
  "language_info": {
   "codemirror_mode": {
    "name": "ipython",
    "version": 3
   },
   "file_extension": ".py",
   "mimetype": "text/x-python",
   "name": "python",
   "nbconvert_exporter": "python",
   "pygments_lexer": "ipython3",
   "version": "3.13.1"
  }
 },
 "nbformat": 4,
 "nbformat_minor": 2
}
